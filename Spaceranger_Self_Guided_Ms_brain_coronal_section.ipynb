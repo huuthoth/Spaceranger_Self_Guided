{
 "cells": [
  {
   "cell_type": "markdown",
   "id": "f0d0bd1e-0a90-475f-a565-0ad9a2a1ad2a",
   "metadata": {},
   "source": [
    "# Running spaceranger count (FF)"
   ]
  },
  {
   "cell_type": "markdown",
   "id": "733b16b7-d029-4254-9d22-e2aea8cf9eb1",
   "metadata": {},
   "source": [
    "### On a Mac or Linux system, open a terminal window and type "
   ]
  },
  {
   "cell_type": "markdown",
   "id": "54046311-4794-4df2-baf1-2c6f6a90c1e4",
   "metadata": {},
   "source": [
    "ssh username@biowulf.nih.gov\n",
    "Password: XXX"
   ]
  },
  {
   "cell_type": "markdown",
   "id": "48f95207-b348-4337-a452-d5cb08528106",
   "metadata": {},
   "source": [
    "### Grab an interactive shell (adjust resources to your needs)"
   ]
  },
  {
   "cell_type": "code",
   "execution_count": null,
   "id": "908ad2c5-5457-46eb-a44a-5ddcef6ed123",
   "metadata": {},
   "outputs": [],
   "source": [
    "sinteractive --mem=64g --cpus-per-task=8 --gres=lscratch:200 --time=08:00:00\n",
    "\n",
    "module avail Spaceranger\n",
    "module load spaceranger/3.1.3\n",
    "spaceranger testrun --id=tiny"
   ]
  },
  {
   "cell_type": "code",
   "execution_count": null,
   "id": "8e30973c-eb85-438c-a36b-b76c1348093d",
   "metadata": {},
   "outputs": [],
   "source": [
    "checkquota\n",
    "Mount                      Used      Quota  Percent    Files    Limit  Percent\n",
    "/data:                  94.5 GB   100.0 GB   94.52%     5194 32000000    0.02%\n",
    "/data(NIMH_scratch):   873.4 TB     1.0 PB   85.29% 167497909 1000000000   16.75%\n",
    "/home:                  16.0 GB    16.0 GB  100.00%     6148      n/a    0.00% *****\n"
   ]
  },
  {
   "cell_type": "markdown",
   "id": "3aa0c342-955d-49ce-a107-3d203e9c42cb",
   "metadata": {},
   "source": [
    "## Down load data\n",
    "#### In this tutorial, you will analyze a mouse brain coronal section public dataset.\n",
    "\n",
    "#### Key dataset features include:\n",
    "\n",
    "Tissue section of 10 µm thickness\n",
    "H&E image acquired using a Nikon Ti2-E microscope\n",
    "Sequencing Depth: 115,569 read pairs per spot\n",
    "Sequencing Coverage: Read 1 - 28 bp; Read 2 - 120 bp (transcript); i7 sample index - 10 bp; i5 sample index - 10 bp\n",
    "Visium Slide: V19L01-041\n",
    "Capture Area: C1"
   ]
  },
  {
   "cell_type": "markdown",
   "id": "2a0e9568-2ff0-42e2-85bd-684c3b9f2c22",
   "metadata": {},
   "source": [
    "### Create datasets folder"
   ]
  },
  {
   "cell_type": "code",
   "execution_count": null,
   "id": "0cfe88aa-1828-4a38-83d4-430625358f98",
   "metadata": {},
   "outputs": [],
   "source": [
    "mkdir datasets"
   ]
  },
  {
   "cell_type": "markdown",
   "id": "3dd7d9c8-f0a9-4361-bc34-d7a80581e1d5",
   "metadata": {},
   "source": [
    "### Download FASTQ to datasets folder"
   ]
  },
  {
   "cell_type": "code",
   "execution_count": null,
   "id": "334010a1-3954-4995-902c-2aaea5de9d8e",
   "metadata": {},
   "outputs": [],
   "source": [
    "curl https://s3-us-west-2.amazonaws.com/10x.files/samples/spatial-exp/1.1.0/V1_Adult_Mouse_Brain/V1_Adult_Mouse_Brain_fastqs.tar -o datasets/V1_Adult_Mouse_Brain_fastqs.tar"
   ]
  },
  {
   "cell_type": "markdown",
   "id": "ff20ba4a-2a2f-4e0f-9cad-260044e93cc4",
   "metadata": {},
   "source": [
    "### Download image file to datasets folder"
   ]
  },
  {
   "cell_type": "code",
   "execution_count": null,
   "id": "3a9ac297-f794-453d-b24c-34bd2de04980",
   "metadata": {},
   "outputs": [],
   "source": [
    "curl https://cf.10xgenomics.com/samples/spatial-exp/1.1.0/V1_Adult_Mouse_Brain/V1_Adult_Mouse_Brain_image.tif -o datasets/V1_Adult_Mouse_Brain_image.tif"
   ]
  },
  {
   "cell_type": "markdown",
   "id": "9924bc2c-0bca-4c3f-885c-dbb54d1660d7",
   "metadata": {},
   "source": [
    "### Expected output"
   ]
  },
  {
   "cell_type": "code",
   "execution_count": null,
   "id": "b5fb7bb7-9d56-403a-9d77-2fdd5ce70195",
   "metadata": {},
   "outputs": [],
   "source": [
    "% Total    % Received % Xferd  Average Speed   Time    Time     Time  Current\n",
    "                               Dload  Upload   Total   Spent    Left  Speed\n",
    "0 26.9G    0  135M    0     0  34.4M      0  0:13:22  0:00:03  0:13:19 34.4M"
   ]
  },
  {
   "cell_type": "markdown",
   "id": "73d49b5f-3eca-422c-9733-f79db58d4f03",
   "metadata": {},
   "source": [
    "### Reference data\n",
    "Download the latest version of the mouse transcriptome reference available from the Downloads page.\n",
    "\n",
    "#### Download mouse reference"
   ]
  },
  {
   "cell_type": "code",
   "execution_count": null,
   "id": "b7eb923d-d9a2-4ca2-810b-3a5ef1a35a6b",
   "metadata": {},
   "outputs": [],
   "source": [
    "    \n",
    "curl -O https://cf.10xgenomics.com/supp/spatial-exp/refdata-gex-mm10-2020-A.tar.gz"
   ]
  },
  {
   "cell_type": "code",
   "execution_count": null,
   "id": "e6439607-9aef-431e-ad1a-ad84268fc1e6",
   "metadata": {},
   "outputs": [],
   "source": [
    "# Expected output\n",
    "% Total    % Received % Xferd  Average Speed   Time    Time     Time  Current\n",
    "                               Dload  Upload   Total   Spent    Left  Speed\n",
    "1 9835M    1  158M    0     0  34.1M      0  0:04:48  0:00:04  0:04:44 34.1M"
   ]
  },
  {
   "cell_type": "markdown",
   "id": "97d746f2-fca9-4994-8214-2ed5c39a2588",
   "metadata": {},
   "source": [
    "### Extract files\n",
    "#### Extract sample FASTQ files"
   ]
  },
  {
   "cell_type": "code",
   "execution_count": null,
   "id": "15e9200b-a72c-4c6d-9ce8-316063835b0c",
   "metadata": {},
   "outputs": [],
   "source": [
    "tar -xvf datasets/V1_Adult_Mouse_Brain_fastqs.tar -C datasets/ && rm datasets/V1_Adult_Mouse_Brain_fastqs.tar"
   ]
  },
  {
   "cell_type": "markdown",
   "id": "63d92612-fd38-4d2f-97c6-631a72fb9e9f",
   "metadata": {},
   "source": [
    "#### Extract mouse reference transcriptome"
   ]
  },
  {
   "cell_type": "code",
   "execution_count": null,
   "id": "a5ecb033-d218-4ea2-b25a-c7f46a4cdf8f",
   "metadata": {},
   "outputs": [],
   "source": [
    "tar -xzvf refdata-gex-mm10-2020-A.tar.gz && rm refdata-gex-mm10-2020-A.tar.gz"
   ]
  },
  {
   "cell_type": "code",
   "execution_count": null,
   "id": "3ffa67be-5b4f-48f2-a66e-e109a0c6d55e",
   "metadata": {},
   "outputs": [],
   "source": [
    "# Expected output\n",
    "# Sample FASTQ files\n",
    "V1_Adult_Mouse_Brain_fastqs/\n",
    "V1_Adult_Mouse_Brain_fastqs/V1_Adult_Mouse_Brain_S5_L002_I2_001.fastq.gz\n",
    "V1_Adult_Mouse_Brain_fastqs/V1_Adult_Mouse_Brain_S5_L001_R1_001.fastq.gz\n",
    "...\n",
    "# Reference mouse transcriptome\n",
    "\n",
    "refdata-gex-mm10-2020-A/\n",
    "refdata-gex-mm10-2020-A/fasta/\n",
    "refdata-gex-mm10-2020-A/fasta/genome.fa"
   ]
  },
  {
   "cell_type": "markdown",
   "id": "0a9800b9-ca54-403b-928f-c25af8dc2b3e",
   "metadata": {},
   "source": [
    "### Set up the command\n",
    "#### Run spaceranger count\n",
    "#### With internet access: Run spaceranger count"
   ]
  },
  {
   "cell_type": "code",
   "execution_count": null,
   "id": "9de52c60-2300-48c3-9264-79dc16c690a5",
   "metadata": {},
   "outputs": [],
   "source": [
    "spaceranger count --id=\"V1_Adult_Mouse_Brain\" \\\n",
    "  --description=\"Adult Mouse Brain (Coronal)\" \\\n",
    "  --transcriptome=refdata-gex-mm10-2020-A \\\n",
    "  --fastqs=/datasets/V1_Adult_Mouse_Brain_fastqs \\\n",
    "  --image=/datasets/V1_Adult_Mouse_Brain_image.tif \\\n",
    "  --slide=V19L01-041 \\\n",
    "  --area=C1 \\\n",
    "  --localcores=16 \\\n",
    "  --localmem=128 \\\n",
    "  --create-bam=true"
   ]
  },
  {
   "cell_type": "markdown",
   "id": "cb230c26-69c2-416e-a950-63641d6e588e",
   "metadata": {},
   "source": [
    "         \n",
    "#### error: invalid value 'datasets/V1_Adult_Mouse_Brain_fastqs' for '--fastqs <PATH>': No such file or directory\n",
    "### Fix: The PATH is critical for spaceranger count"
   ]
  },
  {
   "cell_type": "markdown",
   "id": "035da956-e8a7-4750-a1e7-0be8d9047836",
   "metadata": {},
   "source": [
    "spaceranger count --id=\"V1_Adult_Mouse_Brain\" \\\n",
    "  --description=\"Adult Mouse Brain (Coronal)\" \\\n",
    "  --transcriptome=/data/nguyenhut/datasets/refdata-gex-mm10-2020-A \\\n",
    "  --fastqs=/data/nguyenhut/datasets/V1_Adult_Mouse_Brain_fastqs \\\n",
    "  --image=/data/nguyenhut/datasets/V1_Adult_Mouse_Brain_image.tif \\\n",
    "  --slide=V19L01-041 \\\n",
    "  --area=C1 \\\n",
    "  --localcores=16 \\\n",
    "  --localmem=128 \\\n",
    "  --create-bam=true"
   ]
  },
  {
   "cell_type": "code",
   "execution_count": null,
   "id": "175cb469-4233-4d65-8641-bd1837eacdeb",
   "metadata": {},
   "outputs": [],
   "source": [
    "#[error] Pipestance failed. Error log at:\n",
    "V1_Adult_Mouse_Brain/SPATIAL_RNA_COUNTER_CS/SPATIAL_MATRIX_COMPUTER/_MATRIX_COMPUTER/MAKE_SHARD/fork0/chnk1-u0850a63f46/_errors\n",
    "\n",
    "# Due to limited quota in /data, moving the working directory to /data/NIMH_scratch/$USER resolves the above error.\n",
    "checkquota\n",
    "Mount                      Used      Quota  Percent    Files    Limit  Percent\n",
    "/data:                 100.0 GB   100.0 GB  100.00%     1839 32000000    0.01% *****\n",
    "/data(NIMH_scratch):   874.7 TB     1.0 PB   85.42% 168429927 1000000000   16.84%\n",
    "/home:                 260.6 MB    16.0 GB    1.59%     6155      n/a    0.00%"
   ]
  }
 ],
 "metadata": {
  "kernelspec": {
   "display_name": "Python [conda env:base] *",
   "language": "python",
   "name": "conda-base-py"
  },
  "language_info": {
   "codemirror_mode": {
    "name": "ipython",
    "version": 3
   },
   "file_extension": ".py",
   "mimetype": "text/x-python",
   "name": "python",
   "nbconvert_exporter": "python",
   "pygments_lexer": "ipython3",
   "version": "3.11.5"
  }
 },
 "nbformat": 4,
 "nbformat_minor": 5
}
